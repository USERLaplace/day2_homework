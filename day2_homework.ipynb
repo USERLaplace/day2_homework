{
 "cells": [
  {
   "cell_type": "code",
   "execution_count": 1,
   "id": "b63bf41d",
   "metadata": {},
   "outputs": [],
   "source": [
    "# %% [markdown]\n",
    "\n",
    "\"\"\"\n",
    "Homework:\n",
    "\n",
    "The folder '~//data//homework' contains a folder 'Data', containing hand-digits of letters a-z stored in .txt.\n",
    "\n",
    "Try to establish a network to classify the digits.\n",
    "\n",
    "`dataLoader.py` offers APIs for loading data.\n",
    "\"\"\"\n",
    "# %%\n",
    "import dataLoader as dl\n",
    "\n",
    "features,labels=dl.readData(r'../data/homework/Data')\n"
   ]
  },
  {
   "cell_type": "code",
   "execution_count": 2,
   "id": "87fe695b",
   "metadata": {},
   "outputs": [],
   "source": [
    "labels1=[]\n",
    "for label in labels:\n",
    "    labels1.append(dl.letter2Number(label))"
   ]
  },
  {
   "cell_type": "code",
   "execution_count": 3,
   "id": "753d662a",
   "metadata": {},
   "outputs": [],
   "source": [
    "# 分离train与test\n",
    "from sklearn.model_selection import train_test_split\n",
    "features_train, features_test, labels_train, labels_test = train_test_split(features, labels1, test_size=.2, random_state=1)"
   ]
  },
  {
   "cell_type": "code",
   "execution_count": 4,
   "id": "195aa310",
   "metadata": {},
   "outputs": [
    {
     "data": {
      "image/png": "[encoded data removed]",
      "text/plain": [
       "<Figure size 432x288 with 1 Axes>"
      ]
     },
     "metadata": {
      "needs_background": "light"
     },
     "output_type": "display_data"
    }
   ],
   "source": [
    "# %%\n",
    "import matplotlib.pyplot as plt\n",
    "plt.plot(features[5,0:30],features[5,30:])\n",
    "plt.suptitle=\"Real: \"+labels[5]\n",
    "plt.show()\n"
   ]
  },
  {
   "cell_type": "code",
   "execution_count": 5,
   "id": "d1540fdf",
   "metadata": {},
   "outputs": [],
   "source": [
    "# %%\n",
    "# 共26类图片，0-25如下：\n",
    "class_names = ['a', 'b', 'c', 'd', 'e','f', 'g', 'h', 'i', 'j'\n",
    "               'k', 'l', 'm', 'n', 'o','p', 'q', 'r', 's', 't','u', 'v', 'w', 'x', 'y','z']\n"
   ]
  },
  {
   "cell_type": "code",
   "execution_count": 6,
   "id": "c6efa1ec",
   "metadata": {},
   "outputs": [
    {
     "data": {
      "text/plain": [
       "(3874, 60)"
      ]
     },
     "execution_count": 6,
     "metadata": {},
     "output_type": "execute_result"
    }
   ],
   "source": [
    "# %%\n",
    "# 训练集包含60000张28*28的图片\n",
    "features.shape\n"
   ]
  },
  {
   "cell_type": "code",
   "execution_count": 7,
   "id": "d14a2348",
   "metadata": {},
   "outputs": [
    {
     "data": {
      "text/plain": [
       "3874"
      ]
     },
     "execution_count": 7,
     "metadata": {},
     "output_type": "execute_result"
    }
   ],
   "source": [
    "# \n",
    "len(labels1)"
   ]
  },
  {
   "cell_type": "code",
   "execution_count": 8,
   "id": "c88ea13d",
   "metadata": {},
   "outputs": [],
   "source": [
    "import tensorflow as tf\n",
    "import numpy as np\n",
    "from matplotlib import pyplot as plt"
   ]
  },
  {
   "cell_type": "code",
   "execution_count": 9,
   "id": "ac510d51",
   "metadata": {},
   "outputs": [],
   "source": [
    "model = tf.keras.Sequential([\n",
    "    tf.keras.layers.Dense(128, activation='relu'),\n",
    "    tf.keras.layers.Dense(26)\n",
    "])"
   ]
  },
  {
   "cell_type": "code",
   "execution_count": 10,
   "id": "97f5497c",
   "metadata": {},
   "outputs": [],
   "source": [
    "# model.summary()"
   ]
  },
  {
   "cell_type": "code",
   "execution_count": 11,
   "id": "0acfcccf",
   "metadata": {},
   "outputs": [],
   "source": [
    "# %%\n",
    "# 编译模型\n",
    "# 优化器选择adam（不知道选啥的时候用adam就完事了）\n",
    "# 损失函数选用SparseCategoricalCrossentropy\n",
    "model.compile(optimizer='adam',\n",
    "              loss=tf.keras.losses.SparseCategoricalCrossentropy(from_logits=True),\n",
    "              metrics=['accuracy'])"
   ]
  },
  {
   "cell_type": "code",
   "execution_count": 12,
   "id": "58b3c7f6",
   "metadata": {},
   "outputs": [],
   "source": [
    "# labels1"
   ]
  },
  {
   "cell_type": "code",
   "execution_count": 13,
   "id": "1e85e7c5",
   "metadata": {},
   "outputs": [
    {
     "name": "stdout",
     "output_type": "stream",
     "text": [
      "Epoch 1/20\n",
      "194/194 [==============================] - 0s 758us/step - loss: 3.0457 - accuracy: 0.2417\n",
      "Epoch 2/20\n",
      "194/194 [==============================] - 0s 726us/step - loss: 2.3794 - accuracy: 0.5037\n",
      "Epoch 3/20\n",
      "194/194 [==============================] - 0s 731us/step - loss: 1.8924 - accuracy: 0.6263\n",
      "Epoch 4/20\n",
      "194/194 [==============================] - 0s 741us/step - loss: 1.6018 - accuracy: 0.6696\n",
      "Epoch 5/20\n",
      "194/194 [==============================] - 0s 746us/step - loss: 1.4262 - accuracy: 0.6812\n",
      "Epoch 6/20\n",
      "194/194 [==============================] - 0s 736us/step - loss: 1.3067 - accuracy: 0.7083\n",
      "Epoch 7/20\n",
      "194/194 [==============================] - 0s 726us/step - loss: 1.2196 - accuracy: 0.7260\n",
      "Epoch 8/20\n",
      "194/194 [==============================] - 0s 715us/step - loss: 1.1529 - accuracy: 0.7393\n",
      "Epoch 9/20\n",
      "194/194 [==============================] - 0s 742us/step - loss: 1.0961 - accuracy: 0.7490\n",
      "Epoch 10/20\n",
      "194/194 [==============================] - 0s 710us/step - loss: 1.0532 - accuracy: 0.7706\n",
      "Epoch 11/20\n",
      "194/194 [==============================] - 0s 726us/step - loss: 1.0118 - accuracy: 0.7702\n",
      "Epoch 12/20\n",
      "194/194 [==============================] - 0s 720us/step - loss: 0.9768 - accuracy: 0.7744\n",
      "Epoch 13/20\n",
      "194/194 [==============================] - 0s 720us/step - loss: 0.9438 - accuracy: 0.7838\n",
      "Epoch 14/20\n",
      "194/194 [==============================] - 0s 726us/step - loss: 0.9150 - accuracy: 0.7864\n",
      "Epoch 15/20\n",
      "194/194 [==============================] - 0s 720us/step - loss: 0.8868 - accuracy: 0.7954\n",
      "Epoch 16/20\n",
      "194/194 [==============================] - 0s 731us/step - loss: 0.8627 - accuracy: 0.7993\n",
      "Epoch 17/20\n",
      "194/194 [==============================] - 0s 746us/step - loss: 0.8380 - accuracy: 0.8028\n",
      "Epoch 18/20\n",
      "194/194 [==============================] - 0s 731us/step - loss: 0.8164 - accuracy: 0.8109\n",
      "Epoch 19/20\n",
      "194/194 [==============================] - 0s 741us/step - loss: 0.7961 - accuracy: 0.8135\n",
      "Epoch 20/20\n",
      "194/194 [==============================] - 0s 793us/step - loss: 0.7759 - accuracy: 0.8161\n"
     ]
    },
    {
     "data": {
      "text/plain": [
       "<keras.callbacks.History at 0x209e9b3bbb0>"
      ]
     },
     "execution_count": 13,
     "metadata": {},
     "output_type": "execute_result"
    }
   ],
   "source": [
    "# %%\n",
    "# fit模型，开始训练啦！\n",
    "model.fit(np.array(features_train), np.array(labels_train), epochs=20, batch_size=16)"
   ]
  },
  {
   "cell_type": "code",
   "execution_count": 24,
   "id": "e27d094e",
   "metadata": {},
   "outputs": [
    {
     "name": "stdout",
     "output_type": "stream",
     "text": [
      "25/25 - 0s - loss: 0.7346 - accuracy: 0.8219 - 29ms/epoch - 1ms/step\n",
      "\n",
      "Test accuracy: 0.8219354748725891\n"
     ]
    }
   ],
   "source": [
    "# %%\n",
    "# 测试模型\n",
    "test_loss, test_acc = model.evaluate( np.array(features_test), np.array(labels_test), verbose=2)\n",
    "\n",
    "print('\\nTest accuracy:', test_acc)\n"
   ]
  },
  {
   "cell_type": "code",
   "execution_count": 26,
   "id": "f10fd8b5",
   "metadata": {},
   "outputs": [
    {
     "data": {
      "text/plain": [
       "24"
      ]
     },
     "execution_count": 26,
     "metadata": {},
     "output_type": "execute_result"
    }
   ],
   "source": [
    "# %%\n",
    "# 这里直接接一个softmax把输出转化成概率\n",
    "probability_model = tf.keras.Sequential([model, \n",
    "                                         tf.keras.layers.Softmax()])\n",
    "# %%\n",
    "predictions = probability_model.predict(features_test)\n",
    "# %%\n",
    "predictions[0]\n",
    "# %%\n",
    "# argmax把输出最大概率的元素，得到结果\n",
    "np.argmax(predictions[0])\n",
    "# %%\n",
    "labels_test[0]"
   ]
  },
  {
   "cell_type": "code",
   "execution_count": null,
   "id": "2dddcb9d",
   "metadata": {},
   "outputs": [],
   "source": []
  }
 ],
 "metadata": {
  "kernelspec": {
   "display_name": "Python 3 (ipykernel)",
   "language": "python",
   "name": "python3"
  },
  "language_info": {
   "codemirror_mode": {
    "name": "ipython",
    "version": 3
   },
   "file_extension": ".py",
   "mimetype": "text/x-python",
   "name": "python",
   "nbconvert_exporter": "python",
   "pygments_lexer": "ipython3",
   "version": "3.9.12"
  }
 },
 "nbformat": 4,
 "nbformat_minor": 5
}
